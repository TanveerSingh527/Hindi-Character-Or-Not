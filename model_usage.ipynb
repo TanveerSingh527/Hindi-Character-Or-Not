{
 "cells": [
  {
   "cell_type": "code",
   "execution_count": 1,
   "source": [
    "# Importing some modules\r\n",
    "import numpy as np\r\n",
    "from tensorflow import keras"
   ],
   "outputs": [],
   "metadata": {}
  },
  {
   "cell_type": "code",
   "execution_count": 2,
   "source": [
    "test_dir = 'test' # Path of the folder in which images are, Note that you need to create a seprate folder inside this folder and put all the images in that folder so that our generator can get images"
   ],
   "outputs": [],
   "metadata": {}
  },
  {
   "cell_type": "code",
   "execution_count": 3,
   "source": [
    "# Here we are getting our data from the folder\r\n",
    "from tensorflow.keras.preprocessing.image import ImageDataGenerator\r\n",
    "\r\n",
    "datagen = ImageDataGenerator(rescale=1./255) # Just rescaling inages\r\n",
    "\r\n",
    "test_generator = datagen.flow_from_directory(\r\n",
    "        test_dir,\r\n",
    "        target_size=(150, 150),\r\n",
    "        shuffle=False) # Set shuffle = False because we want that our predictions are in the same order as the images in the folder"
   ],
   "outputs": [
    {
     "output_type": "stream",
     "name": "stdout",
     "text": [
      "Found 98 images belonging to 1 classes.\n"
     ]
    }
   ],
   "metadata": {}
  },
  {
   "cell_type": "code",
   "execution_count": 4,
   "source": [
    "# Load your model\r\n",
    "model = keras.models.load_model('model_name.h5')"
   ],
   "outputs": [],
   "metadata": {}
  },
  {
   "cell_type": "code",
   "execution_count": 5,
   "source": [
    "# Getting the predictions\r\n",
    "predictions = (model.predict(test_generator) > 0.5)"
   ],
   "outputs": [],
   "metadata": {}
  },
  {
   "cell_type": "code",
   "execution_count": 6,
   "source": [
    "# Here by using np.where we are replacing False and True with 0 and 1 respectively\r\n",
    "predictions = np.where(predictions == False, 0, 1)"
   ],
   "outputs": [],
   "metadata": {}
  },
  {
   "cell_type": "code",
   "execution_count": 7,
   "source": [
    "# Here we are writing a function which will give you the predictions based on the index number of image in the folder\r\n",
    "def printPrediction(indexOfImg):\r\n",
    "    if predictions[int(indexOfImg)] == 0:\r\n",
    "        print(f\"Image number {indexOfImg} does not contains hindi character.\")\r\n",
    "    else:\r\n",
    "        print(f\"Image number {indexOfImg} contains hindi character.\")"
   ],
   "outputs": [],
   "metadata": {}
  },
  {
   "cell_type": "code",
   "execution_count": 8,
   "source": [
    "# Here we are using our function\r\n",
    "printPrediction(14)"
   ],
   "outputs": [
    {
     "output_type": "stream",
     "name": "stdout",
     "text": [
      "Image number 14 contains hindi character.\n"
     ]
    }
   ],
   "metadata": {}
  }
 ],
 "metadata": {
  "orig_nbformat": 4,
  "language_info": {
   "name": "python",
   "version": "3.9.5",
   "mimetype": "text/x-python",
   "codemirror_mode": {
    "name": "ipython",
    "version": 3
   },
   "pygments_lexer": "ipython3",
   "nbconvert_exporter": "python",
   "file_extension": ".py"
  },
  "kernelspec": {
   "name": "python3",
   "display_name": "Python 3.9.5 64-bit"
  },
  "interpreter": {
   "hash": "63fd5069d213b44bf678585dea6b12cceca9941eaf7f819626cde1f2670de90d"
  }
 },
 "nbformat": 4,
 "nbformat_minor": 2
}